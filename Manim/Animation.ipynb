{
 "cells": [
  {
   "cell_type": "code",
   "execution_count": 1,
   "id": "a8b4bc34",
   "metadata": {},
   "outputs": [],
   "source": [
    "from manim import *\n",
    "import numpy as np\n"
   ]
  },
  {
   "cell_type": "code",
   "execution_count": 2,
   "id": "2894d4cc",
   "metadata": {},
   "outputs": [],
   "source": [
    "# %%manim  -qm -v WARNING AnimatedSquareToCircle\n",
    "\n",
    "# class AnimatedSquareToCircle(Scene):\n",
    "\n",
    "#     def construct(self):\n",
    "#         circle = Circle()  # create a circle\n",
    "#         square = Square()  # create a square\n",
    "#         text = Text(\"Energy Transfer\")\n",
    "\n",
    "#         self.play(Create(square))  # show the square on screen\n",
    "#         self.add(text)\n",
    "#         self.play(text.animate.to_edge(DOWN))\n",
    "#         self.play(square.animate.rotate((PI)))  # rotate the square\n",
    "#         self.play(square.animate.shift(UP))\n",
    "#         self.play(Rotate(square, angle=PI))\n",
    "#         self.play(square.animate.set_fill(ORANGE, opacity=1))\n",
    "#         self.play(square.animate.shift(DOWN))\n",
    "#         self.play(Transform(square, circle))  # transform the square into a circle\n",
    "#         self.play(square.animate.set_fill(GREEN, opacity=1))  # color the circle on screen\n",
    "#         self.wait()"
   ]
  },
  {
   "cell_type": "code",
   "execution_count": 3,
   "id": "a3cca99c",
   "metadata": {},
   "outputs": [
    {
     "data": {
      "text/html": [
       "<pre style=\"white-space:pre;overflow-x:auto;line-height:normal;font-family:Menlo,'DejaVu Sans Mono',consolas,'Courier New',monospace\">Manim Community <span style=\"color: #008000; text-decoration-color: #008000\">v0.19.0</span>\n",
       "\n",
       "</pre>\n"
      ],
      "text/plain": [
       "Manim Community \u001b[32mv0.\u001b[0m\u001b[32m19.0\u001b[0m\n",
       "\n"
      ]
     },
     "metadata": {},
     "output_type": "display_data"
    },
    {
     "name": "stderr",
     "output_type": "stream",
     "text": [
      "                                                                                                       \r"
     ]
    },
    {
     "data": {
      "text/html": [
       "<video src=\"media\\jupyter\\FirstFunnel@2025-06-23@19-07-53.mp4\" controls autoplay loop style=\"max-width: 60%;\"  >\n",
       "      Your browser does not support the <code>video</code> element.\n",
       "    </video>"
      ],
      "text/plain": [
       "<IPython.core.display.Video object>"
      ]
     },
     "metadata": {},
     "output_type": "display_data"
    }
   ],
   "source": [
    "%%manim  -qm -v WARNING FirstFunnel\n",
    "\n",
    "class FirstFunnel(Scene):\n",
    "    def construct(self):\n",
    "        # parallel horizontal lines\n",
    "        line1 = Line(LEFT + 2*UP, RIGHT + 2*UP, color=RED).to_edge(LEFT, buff = 1)\n",
    "        line2 = Line(LEFT + 2*DOWN, RIGHT + 2*DOWN, color=BLUE).to_edge(LEFT, buff = 1)\n",
    "\n",
    "        line3 = Line(LEFT + 1.6*UP, RIGHT + 1.6*UP, color=RED)\n",
    "        line4 = Line(LEFT + 2*DOWN, RIGHT + 2*DOWN, color=BLUE)\n",
    "\n",
    "        line5 = Line(LEFT + 1.2*UP, RIGHT + 1.2*UP, color=RED).to_edge(RIGHT, buff = 1)\n",
    "        line6 = Line(LEFT + 2*DOWN, RIGHT + 2*DOWN, color=BLUE).to_edge(RIGHT, buff = 1)\n",
    "\n",
    "        # labels\n",
    "        title = Text(\"Excitation Energy Transfer\", font_size=48).to_edge(UP)\n",
    "\n",
    "        label1 = Text(\"S1\", font_size=36).next_to(line1, LEFT)\n",
    "        label2 = Text(\"S0\", font_size=36).next_to(line2, LEFT)\n",
    "\n",
    "        label3 = Text(\"S1\", font_size=36).next_to(line3, UP)\n",
    "        label4 = Text(\"S0\", font_size=36).next_to(line4, DOWN)\n",
    "        \n",
    "        label5 = Text(\"S1\", font_size=36).next_to(line5, RIGHT)\n",
    "        label6 = Text(\"S0\", font_size=36).next_to(line6, RIGHT)\n",
    "\n",
    "        naam1 = Text('Carotenoid', font_size=42).next_to(line2, DOWN, buff=1)\n",
    "        naam2 = Text('Chl b', font_size=42).next_to(line4, DOWN, buff=1)\n",
    "        naam3 = Text('Chl a', font_size=42).next_to(line6, DOWN, buff=1)\n",
    "\n",
    "\n",
    "        # start and end points\n",
    "        start1 = line1.get_center()\n",
    "        end1 = line2.get_center()\n",
    "\n",
    "        start4 = line3.get_center()\n",
    "        end4 = line4.get_center()\n",
    "\n",
    "        start5 = line5.get_center()\n",
    "        end5 = line6.get_center()\n",
    "\n",
    "        start2 = line1.get_right()\n",
    "        end2 = line3.get_left()\n",
    "        start3 = line3.get_right()\n",
    "        end3 = line5.get_left()\n",
    "\n",
    "        # playing animation\n",
    "        self.wait(2)\n",
    "        self.play(Write(title))\n",
    "        self.wait()\n",
    "        \n",
    "        self.play(Create(line2), Write(label2))\n",
    "        self.play(Create(line1), Write(label1))\n",
    "        self.play(Write(naam1))\n",
    "\n",
    "        self.play(GrowArrow(Arrow(end1, start1, stroke_width=10)))\n",
    "        self.wait()\n",
    "\n",
    "        self.play(Create(line4), Write(label4))\n",
    "        self.play(Create(line3), Write(label3))\n",
    "        self.play(Write(naam2))\n",
    "\n",
    "        self.play(GrowArrow(Arrow(start2, end2, stroke_width=10)))\n",
    "        self.play(GrowArrow(Arrow(start4, end4, stroke_width=2)))\n",
    "        self.wait()\n",
    "\n",
    "        self.play(Create(line6), Write(label6))\n",
    "        self.play(Create(line5), Write(label5))\n",
    "        self.play(Write(naam3))\n",
    "\n",
    "        self.play(GrowArrow(Arrow(start3, end3, stroke_width=10)))\n",
    "        self.play(GrowArrow(Arrow(start5, end5, stroke_width=2)))\n",
    "\n",
    "        self.wait(4)"
   ]
  },
  {
   "cell_type": "code",
   "execution_count": 4,
   "id": "bb3d320e",
   "metadata": {},
   "outputs": [
    {
     "data": {
      "text/html": [
       "<pre style=\"white-space:pre;overflow-x:auto;line-height:normal;font-family:Menlo,'DejaVu Sans Mono',consolas,'Courier New',monospace\">Manim Community <span style=\"color: #008000; text-decoration-color: #008000\">v0.19.0</span>\n",
       "\n",
       "</pre>\n"
      ],
      "text/plain": [
       "Manim Community \u001b[32mv0.\u001b[0m\u001b[32m19.0\u001b[0m\n",
       "\n"
      ]
     },
     "metadata": {},
     "output_type": "display_data"
    },
    {
     "name": "stderr",
     "output_type": "stream",
     "text": [
      "                                                                                   \r"
     ]
    },
    {
     "data": {
      "text/html": [
       "<video src=\"media\\jupyter\\SecondFunnel@2025-06-23@19-08-07.mp4\" controls autoplay loop style=\"max-width: 60%;\"  >\n",
       "      Your browser does not support the <code>video</code> element.\n",
       "    </video>"
      ],
      "text/plain": [
       "<IPython.core.display.Video object>"
      ]
     },
     "metadata": {},
     "output_type": "display_data"
    }
   ],
   "source": [
    "%%manim  -qm -v WARNING SecondFunnel\n",
    "\n",
    "class SecondFunnel(Scene):\n",
    "    def construct(self):\n",
    "        # parallel horizontal lines\n",
    "        line1 = Line(LEFT + 1.2*UP, RIGHT + 1.2*UP, color=RED).to_edge(LEFT, buff = 1)\n",
    "        line2 = Line(LEFT + 2*DOWN, RIGHT + 2*DOWN, color=BLUE).to_edge(LEFT, buff = 1)\n",
    "\n",
    "        line3 = Line(LEFT + 2*UP, RIGHT + 2*UP, color=RED).move_to([-1, 2, 0])\n",
    "        line4 = Line(LEFT + 2*DOWN, RIGHT + 2*DOWN, color=BLUE).move_to([-1, -2, 0])\n",
    "\n",
    "        plus = Text('+').move_to([3.7, 0, 0])\n",
    "        mim = Text('-').move_to([4.3, 0, 0])\n",
    "        slash = Text('/', font_size=150).move_to([4, 0, 0])\n",
    "        circle = Circle(radius=0.7, color=GREEN).move_to([4, 0, 0])\n",
    "\n",
    "        # labels\n",
    "        title = Text(\"Energy Trapping\", font_size=48).to_edge(UP)\n",
    "\n",
    "        label1 = Text(\"S1\", font_size=36).next_to(line1, LEFT)\n",
    "        label2 = Text(\"S0\", font_size=36).next_to(line2, LEFT)\n",
    "\n",
    "        label3 = Text(\"S1\", font_size=36).next_to(line3, UP)\n",
    "        label4 = Text(\"S0\", font_size=36).next_to(line4, DOWN)\n",
    "\n",
    "        naam1 = Text('Redmost Chl a', font_size=36).next_to(line2, DOWN, buff=1)\n",
    "        naam2 = Text('Reaction Center', font_size=36).next_to(line4, DOWN, buff=1)\n",
    "        naam3 = Text('Charge Seperation', font_size=36).move_to([4, -3.23, 0])\n",
    "\n",
    "        # start and end points\n",
    "        start1 = line1.get_center()\n",
    "        end1 = line2.get_center()\n",
    "\n",
    "        start2 = line1.get_right()\n",
    "        end2 = line3.get_left()\n",
    "        start3 = line3.get_right()\n",
    "        end3 = ([2.3, 0.7, 0])\n",
    "\n",
    "        # playing animation\n",
    "        self.wait(3)\n",
    "        self.play(Write(title))\n",
    "        self.wait()\n",
    "\n",
    "        self.play(Create(line2), Write(label2))\n",
    "        self.play(Create(line1), Write(label1))\n",
    "        self.play(Write(naam1))\n",
    "\n",
    "        self.play(GrowArrow(Arrow(start1, end1, stroke_width=2)))\n",
    "        self.wait()\n",
    "\n",
    "        self.play(Create(line4), Write(label4))\n",
    "        self.play(Create(line3), Write(label3))\n",
    "        self.play(Write(naam2))\n",
    "\n",
    "        self.play(GrowArrow(Arrow(start2, end2, stroke_width=10)))\n",
    "        self.wait()\n",
    "\n",
    "        self.play(Create(plus), Create(mim), Create(circle), run_time = 2)\n",
    "        self.play(GrowArrow(Arrow(start3, end3, stroke_width=10)))\n",
    "        self.wait(0.75)\n",
    "\n",
    "        self.play(Write(slash), Uncreate(circle), Write(naam3), plus.animate.shift(0.5*UP + LEFT), mim.animate.shift(0.5*DOWN + RIGHT))\n",
    "\n",
    "        self.wait(2)"
   ]
  }
 ],
 "metadata": {
  "kernelspec": {
   "display_name": "manim-env",
   "language": "python",
   "name": "python3"
  },
  "language_info": {
   "codemirror_mode": {
    "name": "ipython",
    "version": 3
   },
   "file_extension": ".py",
   "mimetype": "text/x-python",
   "name": "python",
   "nbconvert_exporter": "python",
   "pygments_lexer": "ipython3",
   "version": "3.12.10"
  }
 },
 "nbformat": 4,
 "nbformat_minor": 5
}
